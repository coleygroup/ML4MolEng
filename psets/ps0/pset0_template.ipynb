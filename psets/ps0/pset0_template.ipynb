{
 "cells": [
  {
   "attachments": {},
   "cell_type": "markdown",
   "metadata": {},
   "source": [
    "#  <center> Problem Set 0 <center>\n",
    "<center> Spring 2024 <center>\n",
    "<center> 3.C01/3.C51, 7.C01/7.C51, 10.C01/10.C51, 20.C01/20.C51 <center>\n",
    "<center> Due: February 16, 2024 (suggested) <center>"
   ]
  },
  {
   "cell_type": "markdown",
   "metadata": {
    "id": "mo1RpkVBShOK"
   },
   "source": [
    "# <center>Part 1: Introduction to Colab</center>\n",
    "\n",
    "This notebook introduces how to use Colab to write code for this class. \n",
    "\n",
    "If you have used jupyter notebook or Juyterlab before, you will find using Colab is very similar. \n",
    "\n",
    "First you can try the example intro notebook here: \n",
    "\n",
    "https://colab.research.google.com/notebooks/intro.ipynb\n",
    "\n",
    "\n",
    "\n",
    "Click the \"Connect\" button on the right-hand side to connect this notebook to  a CPU. Use Shift+Enter to run the following cell."
   ]
  },
  {
   "cell_type": "code",
   "execution_count": null,
   "metadata": {},
   "outputs": [],
   "source": [
    "print(\"Hello world\")"
   ]
  },
  {
   "cell_type": "markdown",
   "metadata": {
    "id": "mo1RpkVBShOK"
   },
   "source": [
    "We expect that you submit a Colab notebook link for grading. Make sure that the notebook can be run before submitting, that the figures are labeled, and that you include comment or text explaining what each part of the code does.\n",
    "\n",
    "Your colab environment is your temporary computer and you can checkout the file system by clicking on the `Files` button on the left side bar. You can use standard Linux commands to navigate the system. Just put a `!` in front of the command, like this: "
   ]
  },
  {
   "cell_type": "code",
   "execution_count": null,
   "metadata": {
    "colab": {
     "base_uri": "https://localhost:8080/"
    },
    "id": "yPJm-e1bbLGs",
    "outputId": "4745b8fc-4d69-40a9-a43d-4eeea8f5e9f8"
   },
   "outputs": [],
   "source": [
    "! pwd \n",
    "! ls"
   ]
  },
  {
   "cell_type": "markdown",
   "metadata": {
    "id": "LccfT67TUVhG"
   },
   "source": [
    "## Programming Environment on Colab\n",
    "\n",
    "On Colab, most packages are pre-installed (sklearn, pytorch, numpy). One can even request a GPU for computation; you will learn how to do this on PSet 2."
   ]
  },
  {
   "cell_type": "code",
   "execution_count": null,
   "metadata": {},
   "outputs": [],
   "source": [
    "import sklearn\n",
    "import numpy\n",
    "import torch"
   ]
  },
  {
   "cell_type": "markdown",
   "metadata": {
    "id": "970u0t2KUf3F"
   },
   "source": [
    "## Saving your work \n",
    "\n",
    "You can save your work on Colab. There are three options:\n",
    "\n",
    "* Save in Google Drive: File -> Save in Drive \n",
    "* Save on github : File -> Save a copy in Github \n",
    "* Save locally: File -> Download .ipynb or .py \n",
    "\n",
    "Note that a Colab will time out if it is left in a idle state for too long. This means that all the cached data and variables will be gone and you will need to rerun the notebook. "
   ]
  },
  {
   "cell_type": "markdown",
   "metadata": {
    "id": "kBpwFXo8VBMJ"
   },
   "source": [
    "## Installing additional packages\n",
    "\n",
    "Sometimes, you will need to install additional packages to finish a project. For example: scikit-learn. \n",
    "\n",
    "You can install scikit-learn (for example) with ```!pip install scikit-learn```.\n",
    "\n",
    "However, anaconda is not pre-installed in the Colab environment. We will provide additional instruction for installing conda-only packages from Colab. \n"
   ]
  },
  {
   "cell_type": "code",
   "execution_count": null,
   "metadata": {
    "colab": {
     "base_uri": "https://localhost:8080/"
    },
    "id": "rBN1FNS4VmPN",
    "outputId": "b42ea02f-5dcb-448d-ef7a-4064251b8150"
   },
   "outputs": [],
   "source": [
    "!pip install scikit-learn"
   ]
  },
  {
   "cell_type": "markdown",
   "metadata": {
    "id": "8fG1Vr8pXXX3"
   },
   "source": [
    "## Uploading your data/file to Colab virtual envrionment \n",
    "\n",
    "Click the file icon from the sidebar. Click the upload button and choose your files.\n",
    "\n",
    "\n"
   ]
  },
  {
   "cell_type": "markdown",
   "metadata": {
    "id": "qJea8uO5bVKq"
   },
   "source": [
    "## Cloning a git repository \n",
    "\n",
    "Sometimes you want to clone some devloped repository from Github or Gitlab. You can just do it by typing `!git clone <repo url>`"
   ]
  },
  {
   "cell_type": "code",
   "execution_count": null,
   "metadata": {
    "colab": {
     "base_uri": "https://localhost:8080/"
    },
    "id": "4tAKrxz_Z5mI",
    "outputId": "f21b400b-f7ad-4a6c-96a2-c18932b3b31f"
   },
   "outputs": [],
   "source": [
    "!git clone https://github.com/wwang2/thermo-notes.git"
   ]
  },
  {
   "cell_type": "markdown",
   "metadata": {
    "id": "spipGF2Abvhw"
   },
   "source": [
    "Note that you have to clone with https in Colab, not ssh, since you do not have an ssh keypair."
   ]
  },
  {
   "cell_type": "markdown",
   "metadata": {},
   "source": [
    "## Some basic computations"
   ]
  },
  {
   "cell_type": "markdown",
   "metadata": {},
   "source": [
    "Now let's try running some simple programs. First some basic computation examples:"
   ]
  },
  {
   "cell_type": "code",
   "execution_count": null,
   "metadata": {},
   "outputs": [],
   "source": [
    "x = 1+1\n",
    "print(x)"
   ]
  },
  {
   "cell_type": "code",
   "execution_count": null,
   "metadata": {},
   "outputs": [],
   "source": [
    "for i in range(10):\n",
    "    print(i)"
   ]
  },
  {
   "cell_type": "code",
   "execution_count": null,
   "metadata": {},
   "outputs": [],
   "source": [
    "i"
   ]
  },
  {
   "cell_type": "markdown",
   "metadata": {},
   "source": [
    "As you can see, local variables are stored in cache across cells, just like any notebook. This means that you can change the outcome of a cell by going back and rerunning a previous cell. \n",
    "\n",
    "### Warning: \n",
    "Please be careful to run all subsequent cells if you change a previous one! If you don't do this consistently, you can get some very confusing bugs. When you are submitting code, please ensure all your cells are ordered correctly; your TAs will be very confused if you need to run your cells out of order for your code to work."
   ]
  },
  {
   "cell_type": "markdown",
   "metadata": {},
   "source": [
    "You can also define and use functions (or classes)."
   ]
  },
  {
   "cell_type": "code",
   "execution_count": null,
   "metadata": {},
   "outputs": [],
   "source": [
    "def multiply(x, y):\n",
    "    return x*y"
   ]
  },
  {
   "cell_type": "code",
   "execution_count": null,
   "metadata": {},
   "outputs": [],
   "source": [
    "multiply(2, 3)"
   ]
  },
  {
   "cell_type": "markdown",
   "metadata": {},
   "source": [
    "## Visualizations"
   ]
  },
  {
   "cell_type": "markdown",
   "metadata": {},
   "source": [
    "One advantage of Colab is we can show plots right underneath our code. Look at the following plots as examples (don't worry about the code for now)."
   ]
  },
  {
   "cell_type": "code",
   "execution_count": null,
   "metadata": {},
   "outputs": [],
   "source": [
    "import matplotlib.pyplot as plt\n",
    "import numpy as np\n",
    "\n",
    "x = np.arange(-10, 10, 0.01)\n",
    "plt.plot(x, x**2, c='red');"
   ]
  },
  {
   "cell_type": "code",
   "execution_count": null,
   "metadata": {},
   "outputs": [],
   "source": [
    "x = np.arange(-10, 10, 0.1)\n",
    "rand_data = x + 5*np.random.rand(*np.shape(x))\n",
    "plt.scatter(x, rand_data, c='blue');"
   ]
  },
  {
   "cell_type": "markdown",
   "metadata": {},
   "source": [
    "This is very useful in data science and machine learning for visualizing datasets. For most of this class, we will provide you with plotting routines you can use to visualize your data. If you are interested in learning more about plotting with Python, check out the matplotlib package: https://matplotlib.org/stable/tutorials/introductory/usage.html."
   ]
  },
  {
   "cell_type": "markdown",
   "metadata": {},
   "source": [
    "# <center>Part 2: Introduction to numpy</center>"
   ]
  },
  {
   "cell_type": "markdown",
   "metadata": {},
   "source": [
    "## Creating numpy arrays"
   ]
  },
  {
   "cell_type": "markdown",
   "metadata": {},
   "source": [
    "Just like any other Python library, you can import numpy as follows."
   ]
  },
  {
   "cell_type": "code",
   "execution_count": null,
   "metadata": {},
   "outputs": [],
   "source": [
    "import numpy as np"
   ]
  },
  {
   "cell_type": "markdown",
   "metadata": {},
   "source": [
    "Creating a numpy array is as simple as wrapping a Python list with a np.array() command. You can then print the numpy array."
   ]
  },
  {
   "cell_type": "code",
   "execution_count": null,
   "metadata": {},
   "outputs": [],
   "source": [
    "x = np.array([1, 2, 3])\n",
    "print(x)"
   ]
  },
  {
   "cell_type": "markdown",
   "metadata": {},
   "source": [
    "You can create numpy arrays with different types, but they will all be cast to the same type (in this case a string)."
   ]
  },
  {
   "cell_type": "code",
   "execution_count": null,
   "metadata": {},
   "outputs": [],
   "source": [
    "a = np.array([1, 'test'])\n",
    "print(a)"
   ]
  },
  {
   "cell_type": "markdown",
   "metadata": {},
   "source": [
    "You can also create multidimensional arrays in numpy, i.e. arrays where each element is itself an array. This can be used to represent 2D matrices or 3D tensors."
   ]
  },
  {
   "cell_type": "code",
   "execution_count": null,
   "metadata": {},
   "outputs": [],
   "source": [
    "y = np.array([[1, 2, 3], [4, 5, 6]])\n",
    "print(y)"
   ]
  },
  {
   "cell_type": "markdown",
   "metadata": {},
   "source": [
    "numpy dislikes multidimensional arrays where each sub-array has different lengths, i.e. ragged arrays. Notice that in this example, the elements of the numpy array are lists and it is not a true multidimensional array."
   ]
  },
  {
   "cell_type": "code",
   "execution_count": null,
   "metadata": {},
   "outputs": [],
   "source": [
    "z = np.array([[1, 2, 3], [4, 5]])\n",
    "print(z)"
   ]
  },
  {
   "cell_type": "markdown",
   "metadata": {},
   "source": [
    "All numpy arrays have an important property called shape, which tells you their dimensionality. Shape is a tuple, which gives you information about all dimensions of a numpy array."
   ]
  },
  {
   "cell_type": "code",
   "execution_count": null,
   "metadata": {},
   "outputs": [],
   "source": [
    "print(f\"x's shape is: {x.shape} and y's shape is {y.shape}.\")\n",
    "print(f\"This is weird: z's shape is {z.shape}.\")"
   ]
  },
  {
   "cell_type": "markdown",
   "metadata": {},
   "source": [
    "Be sure you understand why z's shape is (2,) above.\n",
    "\n",
    "There are numpy commands to quickly create an array of all zeroes or ones, depending on the desired shape."
   ]
  },
  {
   "cell_type": "code",
   "execution_count": null,
   "metadata": {},
   "outputs": [],
   "source": [
    "print(np.zeros((3, 4)))\n",
    "print(np.ones((2, 3)))"
   ]
  },
  {
   "cell_type": "markdown",
   "metadata": {},
   "source": [
    "It is occasionally useful to create an array that is a list of numbers spanning a given range, like the range() command in Python. The np.arange command does that and also gives you the option of specifying the step size."
   ]
  },
  {
   "cell_type": "code",
   "execution_count": null,
   "metadata": {},
   "outputs": [],
   "source": [
    "print(np.arange(0, 10))\n",
    "print(np.arange(0, 10, 2))\n",
    "print(np.arange(0, 1, 0.1))"
   ]
  },
  {
   "cell_type": "markdown",
   "metadata": {},
   "source": [
    "To turn a numpy array back into a list, simply use list() or .tolist()."
   ]
  },
  {
   "cell_type": "code",
   "execution_count": null,
   "metadata": {},
   "outputs": [],
   "source": [
    "list(x)"
   ]
  },
  {
   "cell_type": "markdown",
   "metadata": {},
   "source": [
    "## Basic elementwise operations in numpy"
   ]
  },
  {
   "cell_type": "markdown",
   "metadata": {},
   "source": [
    "Most standard arithmetic operations in numpy apply elementwise. This includes the product, which in numpy is an elementwise product, not a dot product."
   ]
  },
  {
   "cell_type": "code",
   "execution_count": null,
   "metadata": {},
   "outputs": [],
   "source": [
    "x = np.array([[1, 2], [3, 4]])\n",
    "y = np.array([[5, 6], [7, 8]])\n",
    "print(f\"x+y is: \\n{x+y}\")\n",
    "print(f\"x-y is: \\n{x-y}\")\n",
    "print(f\"x*y is: \\n{x*y}\")\n",
    "print(f\"x^2 is: \\n{x**2}\")\n",
    "print(f\"x/y is: \\n{x/y}\")\n",
    "print(f\"sin(x) is: \\n{np.sin(x)}\")"
   ]
  },
  {
   "cell_type": "markdown",
   "metadata": {},
   "source": [
    "If you want a dot product, you can use the @ operator or the .dot function."
   ]
  },
  {
   "cell_type": "code",
   "execution_count": null,
   "metadata": {},
   "outputs": [],
   "source": [
    "x.dot(y)"
   ]
  },
  {
   "cell_type": "code",
   "execution_count": null,
   "metadata": {},
   "outputs": [],
   "source": [
    "x@y"
   ]
  },
  {
   "cell_type": "markdown",
   "metadata": {},
   "source": [
    "Other useful operations in numpy include the >, <, and == operations, which produce boolean arrays. We'll see why this is useful when discussing indexing."
   ]
  },
  {
   "cell_type": "code",
   "execution_count": null,
   "metadata": {},
   "outputs": [],
   "source": [
    "print(f\"x > 3 is: \\n {x>3}\")\n",
    "print(f\"x <= 2 is: \\n {x<=2}\")\n",
    "print(f\"x == 2 is: \\n {x==2}\")"
   ]
  },
  {
   "cell_type": "markdown",
   "metadata": {},
   "source": [
    "Many common arithmetic operations, like exp, sqrt, log, sin, cos, tan, and others, are implemented as functions in numpy (e.g. np.exp, np.sqrt, etc.). You can check the documentation if you want to use any of these operations."
   ]
  },
  {
   "cell_type": "markdown",
   "metadata": {},
   "source": [
    "## Indexing and slicing"
   ]
  },
  {
   "cell_type": "markdown",
   "metadata": {},
   "source": [
    "One of the biggest advantages of numpy over standard Python lists is the number of different ways you can index into an array. Standard Python indexing by just providing an element works as normal, but you can also provide a range with a colon."
   ]
  },
  {
   "cell_type": "code",
   "execution_count": null,
   "metadata": {},
   "outputs": [],
   "source": [
    "x = np.arange(10)\n",
    "print(f\"x is {x}\")\n",
    "x[2]"
   ]
  },
  {
   "cell_type": "code",
   "execution_count": null,
   "metadata": {},
   "outputs": [],
   "source": [
    "x[2:10]"
   ]
  },
  {
   "cell_type": "code",
   "execution_count": null,
   "metadata": {},
   "outputs": [],
   "source": [
    "x[2:8]"
   ]
  },
  {
   "cell_type": "markdown",
   "metadata": {},
   "source": [
    "Note that the end of the range is always excluded from the output.\n",
    "\n",
    "You can select every Nth element of the array by adding an N to the end of your range specification. You can make your ranges run backwards by adding a -1 instead."
   ]
  },
  {
   "cell_type": "code",
   "execution_count": null,
   "metadata": {},
   "outputs": [],
   "source": [
    "x[2:8:2]"
   ]
  },
  {
   "cell_type": "code",
   "execution_count": null,
   "metadata": {},
   "outputs": [],
   "source": [
    "x[8:2:-1]"
   ]
  },
  {
   "cell_type": "markdown",
   "metadata": {},
   "source": [
    "You can also specify the very last element by using an index of -1, the second-to-last element using an index of -2, and so on."
   ]
  },
  {
   "cell_type": "code",
   "execution_count": null,
   "metadata": {},
   "outputs": [],
   "source": [
    "x[-1]"
   ]
  },
  {
   "cell_type": "code",
   "execution_count": null,
   "metadata": {},
   "outputs": [],
   "source": [
    "x[-2]"
   ]
  },
  {
   "cell_type": "markdown",
   "metadata": {},
   "source": [
    "Unlike Python lists, you can use slicing of numpy arrays to set values in a provided range."
   ]
  },
  {
   "cell_type": "code",
   "execution_count": null,
   "metadata": {},
   "outputs": [],
   "source": [
    "x[2:8:2] = 1000\n",
    "print(f\"x is {x}\")"
   ]
  },
  {
   "cell_type": "markdown",
   "metadata": {},
   "source": [
    "Indexing in numpy is most powerful on multidimensional arrays, where you can index separately across different axes by using a comma to separate the indexing arguments. The first index is the outer list and the second index is the inner list (and so on if you have more dimensions)."
   ]
  },
  {
   "cell_type": "code",
   "execution_count": null,
   "metadata": {},
   "outputs": [],
   "source": [
    "y = np.array([[1, 2, 3], [4, 5, 6], [7, 8, 9], [10, 11, 12]])\n",
    "print(f\"y is: \\n {y}\")\n",
    "print(f\"y[3, 2] is {y[3, 2]}\")\n",
    "print(f\"y[3, 1] is {y[3, 1]}\")\n",
    "print(f\"y[1, 0] is {y[1, 0]}\")"
   ]
  },
  {
   "cell_type": "code",
   "execution_count": null,
   "metadata": {},
   "outputs": [],
   "source": [
    "y[1:3, 0:2]"
   ]
  },
  {
   "cell_type": "markdown",
   "metadata": {},
   "source": [
    "Just a colon in an index means take the entire array."
   ]
  },
  {
   "cell_type": "code",
   "execution_count": null,
   "metadata": {},
   "outputs": [],
   "source": [
    "y[1:3, :]"
   ]
  },
  {
   "cell_type": "markdown",
   "metadata": {},
   "source": [
    "Beyond just indexing ranges and elements, you can index an array with another array! If you use a Boolean array with the same dimensions as the given array, you'll get the elements you specified."
   ]
  },
  {
   "cell_type": "code",
   "execution_count": null,
   "metadata": {},
   "outputs": [],
   "source": [
    "x = np.arange(10)\n",
    "index_arr = np.array([True, True, False, False, True, False, False, False, False, False])\n",
    "x[index_arr]"
   ]
  },
  {
   "cell_type": "code",
   "execution_count": null,
   "metadata": {},
   "outputs": [],
   "source": [
    "y = np.array([[1, 2, 3], [4, 5, 6], [7, 8, 9], [10, 11, 12]])\n",
    "index_arr = np.array([[True, True, False], [True, False, False], [False, True, False], [False, False, True]])\n",
    "y[index_arr]"
   ]
  },
  {
   "cell_type": "markdown",
   "metadata": {},
   "source": [
    "Note that with a multidimensional array, the output is automatically flattened into a 1-D array. \n",
    "\n",
    "This operation is particularly useful when combined with a comparative operator to extract particular elements of an array."
   ]
  },
  {
   "cell_type": "code",
   "execution_count": null,
   "metadata": {},
   "outputs": [],
   "source": [
    "y[y > 5]"
   ]
  },
  {
   "cell_type": "markdown",
   "metadata": {},
   "source": [
    "Make sure you understand the above example.\n",
    "\n",
    "You can also index an array with an array of indices. See below for an example."
   ]
  },
  {
   "cell_type": "code",
   "execution_count": null,
   "metadata": {},
   "outputs": [],
   "source": [
    "index_arr = [0, 1, 5]\n",
    "x[index_arr]"
   ]
  },
  {
   "cell_type": "markdown",
   "metadata": {},
   "source": [
    "With a 2D array, you use two arrays of indices; the first specifies the first dimension of the output, and the second specifies the second dimension. Both arrays must have the same length. This extends to multidimensional  arrays as well."
   ]
  },
  {
   "cell_type": "code",
   "execution_count": null,
   "metadata": {},
   "outputs": [],
   "source": [
    "index_arr1 = [1, 0, 3]\n",
    "index_arr2 = [2, 1, 0]\n",
    "y[index_arr1, index_arr2]"
   ]
  },
  {
   "cell_type": "markdown",
   "metadata": {},
   "source": [
    "## Reshaping arrays"
   ]
  },
  {
   "cell_type": "markdown",
   "metadata": {},
   "source": [
    "numpy has a large number of functions used for reshaping arrays. We'll cover some of the most important ones you will want for the psets.\n",
    "\n",
    "np.ravel allows you to flatten an array (traversing the dimensions from last to first)."
   ]
  },
  {
   "cell_type": "code",
   "execution_count": null,
   "metadata": {},
   "outputs": [],
   "source": [
    "np.ravel(y)"
   ]
  },
  {
   "cell_type": "markdown",
   "metadata": {},
   "source": [
    "np.reshape allows you to reshape an array into a specified shape (as long as the total number of elements remains the same). If you do not want to compute all the dimensions of the new array, you can leave one dimension as -1 and numpy will compute the appropriate number for you."
   ]
  },
  {
   "cell_type": "code",
   "execution_count": null,
   "metadata": {},
   "outputs": [],
   "source": [
    "np.reshape(y, (6, 2))"
   ]
  },
  {
   "cell_type": "markdown",
   "metadata": {},
   "source": [
    "np.transpose or .T allows you to transpose the array, i.e. swap the first and second dimensions. This works just like matrix transposition."
   ]
  },
  {
   "cell_type": "code",
   "execution_count": null,
   "metadata": {},
   "outputs": [],
   "source": [
    "np.transpose(y)"
   ]
  },
  {
   "cell_type": "code",
   "execution_count": null,
   "metadata": {},
   "outputs": [],
   "source": [
    "y.T"
   ]
  },
  {
   "cell_type": "markdown",
   "metadata": {},
   "source": [
    "Another useful method of constructing arrays is by stacking them. numpy offers two functions for this: np.hstack and np.vstack, which operate horizontally and vertically, respectively. They can work on an arbitrary number of arrays."
   ]
  },
  {
   "cell_type": "code",
   "execution_count": null,
   "metadata": {},
   "outputs": [],
   "source": [
    "a = np.array([[0, 1], [2, 3]])\n",
    "b = np.array([[4, 5], [6, 7]])\n",
    "np.hstack((a, b))"
   ]
  },
  {
   "cell_type": "code",
   "execution_count": null,
   "metadata": {},
   "outputs": [],
   "source": [
    "np.vstack((a, b))"
   ]
  },
  {
   "cell_type": "markdown",
   "metadata": {},
   "source": [
    "Your arrays must have compatible dimensions (i.e. the same length in every axis aside from the one being stacked) for this operation to work.\n",
    "\n",
    "Another useful operation is np.concatenate, which concatenates multiple arrays along the specified axis. 0 refers to the 0th axis (the outer axis) and 1 refers to the 1st axis (the inner axis)."
   ]
  },
  {
   "cell_type": "code",
   "execution_count": null,
   "metadata": {},
   "outputs": [],
   "source": [
    "np.concatenate((a, b), axis=0)"
   ]
  },
  {
   "cell_type": "code",
   "execution_count": null,
   "metadata": {},
   "outputs": [],
   "source": [
    "np.concatenate((a, b), axis=1)"
   ]
  },
  {
   "cell_type": "markdown",
   "metadata": {},
   "source": [
    "Occasionally (for a variety of reasons), you might end up with an axis of length 1 in a numpy array. Eliminate it with the squeeze() function."
   ]
  },
  {
   "cell_type": "code",
   "execution_count": null,
   "metadata": {},
   "outputs": [],
   "source": [
    "c = np.array([[1], [2]])\n",
    "np.squeeze(c)"
   ]
  },
  {
   "cell_type": "markdown",
   "metadata": {},
   "source": [
    "## Other important numpy operations"
   ]
  },
  {
   "attachments": {},
   "cell_type": "markdown",
   "metadata": {},
   "source": [
    "There are a number of numpy operations, like np.sum, np.max, np.argmax, and so on, that operate on the whole array and return a scalar."
   ]
  },
  {
   "cell_type": "code",
   "execution_count": null,
   "metadata": {},
   "outputs": [],
   "source": [
    "np.sum(y)"
   ]
  },
  {
   "cell_type": "code",
   "execution_count": null,
   "metadata": {},
   "outputs": [],
   "source": [
    "np.max(y)"
   ]
  },
  {
   "cell_type": "code",
   "execution_count": null,
   "metadata": {},
   "outputs": [],
   "source": [
    "np.argmax(x)"
   ]
  },
  {
   "cell_type": "code",
   "execution_count": null,
   "metadata": {},
   "outputs": [],
   "source": [
    "np.mean(y)"
   ]
  },
  {
   "cell_type": "code",
   "execution_count": null,
   "metadata": {},
   "outputs": [],
   "source": [
    "np.std(y)"
   ]
  },
  {
   "cell_type": "code",
   "execution_count": null,
   "metadata": {},
   "outputs": [],
   "source": [
    "np.argmax(y)"
   ]
  },
  {
   "cell_type": "markdown",
   "metadata": {},
   "source": [
    "np.argmax is not very useful when applied to a multidimensional array. The following code snippet will give you the indices you want."
   ]
  },
  {
   "cell_type": "code",
   "execution_count": null,
   "metadata": {},
   "outputs": [],
   "source": [
    "np.unravel_index(np.argmax(y, axis=None), y.shape)"
   ]
  },
  {
   "cell_type": "markdown",
   "metadata": {},
   "source": [
    "All of these functions can also be applied to individual axes, in which case you will get the sum, max, etc. of each row or column, depending on which axis you specify."
   ]
  },
  {
   "cell_type": "code",
   "execution_count": null,
   "metadata": {},
   "outputs": [],
   "source": [
    "np.sum(y, axis=0)"
   ]
  },
  {
   "cell_type": "code",
   "execution_count": null,
   "metadata": {},
   "outputs": [],
   "source": [
    "np.sum(y, axis=1)"
   ]
  },
  {
   "cell_type": "code",
   "execution_count": null,
   "metadata": {},
   "outputs": [],
   "source": [
    "np.max(y, axis=0)"
   ]
  },
  {
   "cell_type": "code",
   "execution_count": null,
   "metadata": {},
   "outputs": [],
   "source": [
    "np.max(y, axis=1)"
   ]
  },
  {
   "cell_type": "code",
   "execution_count": null,
   "metadata": {},
   "outputs": [],
   "source": [
    "np.mean(y, axis=1)\n"
   ]
  },
  {
   "cell_type": "code",
   "execution_count": null,
   "metadata": {},
   "outputs": [],
   "source": [
    "np.std(y, axis=1)"
   ]
  },
  {
   "cell_type": "markdown",
   "metadata": {},
   "source": [
    "It's easy to get confused here with which axis is which, so always be sure to check your code.\n",
    "\n",
    "Useful functions you may need beyond the ones above that work similarly include np.min, np.argmin, np.mean, np.std, and np.median.\n",
    "\n",
    "When dealing with Boolean arrays, np.all and np.any tell you whether all or any of the elements are True."
   ]
  },
  {
   "cell_type": "code",
   "execution_count": null,
   "metadata": {},
   "outputs": [],
   "source": [
    "print(np.all(y == 5), np.any(y == 5), np.all(y < 13))"
   ]
  },
  {
   "cell_type": "markdown",
   "metadata": {},
   "source": [
    "np.sort allows you to sort a given array (assuming its elements are sortable) and np.argsort tells you the indices by which an array can be sorted."
   ]
  },
  {
   "cell_type": "code",
   "execution_count": null,
   "metadata": {},
   "outputs": [],
   "source": [
    "z = np.array([1, 4, 6, 8, 3, 2, 5, 7, 9])\n",
    "np.sort(z)"
   ]
  },
  {
   "cell_type": "code",
   "execution_count": null,
   "metadata": {},
   "outputs": [],
   "source": [
    "print(np.argsort(z), z[np.argsort(z)])"
   ]
  },
  {
   "cell_type": "markdown",
   "metadata": {},
   "source": [
    "numpy has a built-in RNG which you can access through np.random. For example, np.random.choice selects a random element from a 1-D array. The size argument determines how many elements to select and the replace argument determines whether selection is done with or without replacement."
   ]
  },
  {
   "cell_type": "code",
   "execution_count": null,
   "metadata": {},
   "outputs": [],
   "source": [
    "np.random.choice(x, size=(5, 2), replace=True)"
   ]
  },
  {
   "attachments": {},
   "cell_type": "markdown",
   "metadata": {},
   "source": [
    "If you're interested in learning more about numpy functions, please look up the documentation or the tutorial.\n",
    "\n",
    "\n",
    "# **The Take Aways :** \n",
    "* Numpy has plenty of useful functions pre-defined and before you implement any piece of code first check numpy documentation to see if you can piggy back off what has already been created!\n",
    "* Everything in numpy from indexing to function calls is optimized and written to support multi-dimensional arrays and you should be mindful of which data axis or data shape you are working with.\n",
    "* Google Colab is a great resource. View it and all Jupyter notebooks as a foundational tool for datascience.\n"
   ]
  }
 ],
 "metadata": {
  "colab": {
   "authorship_tag": "ABX9TyNnb/upZuvLM3vaYtp25FQT",
   "include_colab_link": true,
   "name": "Intro2Colab.ipynb",
   "provenance": []
  },
  "kernelspec": {
   "display_name": "Python 3",
   "language": "python",
   "name": "python3"
  },
  "language_info": {
   "codemirror_mode": {
    "name": "ipython",
    "version": 3
   },
   "file_extension": ".py",
   "mimetype": "text/x-python",
   "name": "python",
   "nbconvert_exporter": "python",
   "pygments_lexer": "ipython3",
   "version": "3.10.0"
  },
  "vscode": {
   "interpreter": {
    "hash": "aee8b7b246df8f9039afb4144a1f6fd8d2ca17a180786b69acc140d282b71a49"
   }
  }
 },
 "nbformat": 4,
 "nbformat_minor": 1
}
