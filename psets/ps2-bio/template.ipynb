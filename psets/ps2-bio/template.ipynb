{
  "cells": [
    {
      "cell_type": "markdown",
      "metadata": {
        "id": "xlOtIehkfv94"
      },
      "source": [
        "#  <center> Problem Set 2 <center>\n",
        "<center> 3.C01/3.C51, 7.C01/7.C51, 10.C01/10.C51, 20.C01/20.C51<center>"
      ]
    },
    {
      "cell_type": "markdown",
      "metadata": {
        "id": "k-ST-K4gfv98"
      },
      "source": [
        "<b>Name:</b>\n",
        "\n",
        "<b>Kerberos id:</b>"
      ]
    },
    {
      "cell_type": "markdown",
      "metadata": {
        "id": "KRjyJW47RVfB"
      },
      "source": [
        "### Download required data & install packages"
      ]
    },
    {
      "cell_type": "code",
      "execution_count": null,
      "metadata": {
        "colab": {
          "base_uri": "https://localhost:8080/"
        },
        "id": "QgfwXqRsRJKN",
        "outputId": "053a7eb7-4710-4ce5-c3af-7631d621bd78"
      },
      "outputs": [
        {
          "output_type": "stream",
          "name": "stdout",
          "text": [
            "--2025-03-06 14:55:29--  https://raw.githubusercontent.com/coleygroup/ML4MolEng/main/psets/ps3/data/dna_binding.csv\n",
            "Resolving raw.githubusercontent.com (raw.githubusercontent.com)... 185.199.109.133, 185.199.110.133, 185.199.108.133, ...\n",
            "Connecting to raw.githubusercontent.com (raw.githubusercontent.com)|185.199.109.133|:443... connected.\n",
            "HTTP request sent, awaiting response... 200 OK\n",
            "Length: 1408340 (1.3M) [text/plain]\n",
            "Saving to: ‘dna_binding.csv’\n",
            "\n",
            "dna_binding.csv     100%[===================>]   1.34M  --.-KB/s    in 0.01s   \n",
            "\n",
            "2025-03-06 14:55:30 (92.3 MB/s) - ‘dna_binding.csv’ saved [1408340/1408340]\n",
            "\n",
            "--2025-03-06 14:55:30--  https://raw.githubusercontent.com/coleygroup/ML4MolEng/main/psets/ps5/data/cell_segmentation_jpeg.tar.gz\n",
            "Resolving raw.githubusercontent.com (raw.githubusercontent.com)... 185.199.108.133, 185.199.109.133, 185.199.110.133, ...\n",
            "Connecting to raw.githubusercontent.com (raw.githubusercontent.com)|185.199.108.133|:443... connected.\n",
            "HTTP request sent, awaiting response... 200 OK\n",
            "Length: 2489164 (2.4M) [application/octet-stream]\n",
            "Saving to: ‘cell_segmentation_jpeg.tar.gz’\n",
            "\n",
            "cell_segmentation_j 100%[===================>]   2.37M  --.-KB/s    in 0.01s   \n",
            "\n",
            "2025-03-06 14:55:30 (162 MB/s) - ‘cell_segmentation_jpeg.tar.gz’ saved [2489164/2489164]\n",
            "\n"
          ]
        }
      ],
      "source": [
        "! wget https://raw.githubusercontent.com/coleygroup/ML4MolEng/main/psets/ps2-bio/data/dna_binding.csv\n",
        "!wget https://raw.githubusercontent.com/coleygroup/ML4MolEng/main/psets/ps2-bio/data/cell_segmentation_jpeg.tar.gz\n",
        "!tar -xf cell_segmentation_jpeg.tar.gz"
      ]
    },
    {
      "cell_type": "code",
      "source": [
        "import matplotlib.pyplot as plt\n",
        "from torch.utils.data import Dataset, DataLoader\n",
        "\n",
        "from torchvision.io import read_image\n",
        "import torchvision.transforms as transforms\n",
        "from torchvision.models import vgg16\n",
        "import torch.optim as optim\n",
        "import pandas as pd\n",
        "import numpy as np\n",
        "import matplotlib\n",
        "import torch\n",
        "from torch import nn\n",
        "from torch.nn import functional as F\n",
        "from sklearn.model_selection import train_test_split\n",
        "from sklearn.metrics import roc_auc_score, r2_score\n",
        "from sklearn.utils import shuffle\n",
        "import glob\n",
        "\n",
        "import os\n",
        "import PIL\n",
        "from PIL import Image\n",
        "from sklearn.metrics import confusion_matrix\n",
        "from tqdm import tqdm\n",
        "import imageio\n",
        "from skimage import io, color\n",
        "\n",
        "\n",
        "\n",
        "matplotlib.rcParams.update({'font.size': 15})\n",
        "matplotlib.rc('lines', linewidth=3, color='g')\n",
        "matplotlib.rcParams['axes.linewidth'] = 2.0\n",
        "matplotlib.rcParams['axes.linewidth'] = 2.0\n",
        "matplotlib.rcParams[\"xtick.major.size\"] = 6\n",
        "matplotlib.rcParams[\"ytick.major.size\"] = 6\n",
        "matplotlib.rcParams[\"ytick.major.width\"] = 2\n",
        "matplotlib.rcParams[\"xtick.major.width\"] = 2\n",
        "matplotlib.rcParams['text.usetex'] = False"
      ],
      "metadata": {
        "id": "iy35fXcR-ZgA"
      },
      "execution_count": null,
      "outputs": []
    },
    {
      "cell_type": "markdown",
      "metadata": {
        "id": "eVAkamN4fv99"
      },
      "source": [
        "## <center>Problem 1: Predicting DNA Binding Sites</center>"
      ]
    },
    {
      "cell_type": "code",
      "execution_count": null,
      "metadata": {
        "id": "fiP9YQbAfv-B"
      },
      "outputs": [],
      "source": [
        "df = pd.read_csv(\"./dna_binding.csv\")\n",
        "\n",
        "sequences = df.seq.values\n",
        "y = df.bind.values"
      ]
    },
    {
      "cell_type": "markdown",
      "metadata": {
        "id": "PGGr1meefv-F"
      },
      "source": [
        "### 1.1 (20 points) Build Datasets and DataLoaders in PyTorch"
      ]
    },
    {
      "cell_type": "markdown",
      "metadata": {
        "id": "QZQbraP0fv-G"
      },
      "source": [
        "One-hot encode DNA sequence data."
      ]
    },
    {
      "cell_type": "code",
      "execution_count": null,
      "metadata": {
        "id": "9xeLtJMYfv-G"
      },
      "outputs": [],
      "source": [
        "def SeqEnc(sequences):\n",
        "    '''\n",
        "    A function to one-hot encode DNA sequences\n",
        "\n",
        "    Args:\n",
        "        sequences (list): list of DNA sequences\n",
        "\n",
        "    Returns:\n",
        "        np.array: array with shape (N,C,4) where N is the number of sequences\n",
        "        and C is the sequence length\n",
        "    '''\n",
        "    ################ Code #################\n",
        "\n",
        "\n",
        "    ################ Code #################"
      ]
    },
    {
      "cell_type": "markdown",
      "metadata": {
        "id": "_yFZOk37fv-H"
      },
      "source": [
        "Implement your dataset class that takes in your data."
      ]
    },
    {
      "cell_type": "code",
      "execution_count": null,
      "metadata": {
        "id": "3fAAi_9mfv-H"
      },
      "outputs": [],
      "source": [
        "# Generate dataset\n",
        "class SequenceDataset(Dataset):\n",
        "    def __init__(self, X, y):\n",
        "        self.X = torch.Tensor(np.array(X))  # store X as a pytorch Tensor\n",
        "        self.y = torch.Tensor(np.array(y))  # store y as a pytorch Tensor\n",
        "        self.len=len(self.X)                # number of samples in the data\n",
        "\n",
        "    def __getitem__(self, index):\n",
        "        # your implementation here:\n",
        "\n",
        "    def __len__(self):\n",
        "        return self.len"
      ]
    },
    {
      "cell_type": "markdown",
      "metadata": {
        "id": "cCw7zzVifv-I"
      },
      "source": [
        "Define your Datasets and DataLoaders."
      ]
    },
    {
      "cell_type": "code",
      "execution_count": null,
      "metadata": {
        "id": "nDcFKq7-fv-J"
      },
      "outputs": [],
      "source": [
        "# Define dataset\n",
        "X_train = None # fill in code here\n",
        "y_train = None # fill in code here\n",
        "X_val = None # fill in code here\n",
        "y_val = None # fill in code here\n",
        "X_test = None # fill in code here\n",
        "y_test = None # fill in code here\n",
        "\n",
        "#Build Dataset\n",
        "train_data = None # fill in code here\n",
        "val_data = None # fill in code here\n",
        "test_data = None # fill in code here\n",
        "\n",
        "# Build DataLoader\n",
        "batch_size = 256\n",
        "train_loader = None # fill in code here\n",
        "val_loader = None # fill in code here\n",
        "test_loader = None # fill in code here"
      ]
    },
    {
      "cell_type": "markdown",
      "metadata": {
        "id": "h2Kqx23Jfv-L"
      },
      "source": [
        "What is the benefit of batching your data into mini-batches versus using the entire dataset to optimize the model all at once?"
      ]
    },
    {
      "cell_type": "code",
      "execution_count": null,
      "metadata": {
        "id": "bWmmiXFZfv-M"
      },
      "outputs": [],
      "source": [
        "################ Answer #################\n",
        "\n",
        "################ Answer #################"
      ]
    },
    {
      "cell_type": "markdown",
      "metadata": {
        "id": "yy0Uy4nffv-M"
      },
      "source": [
        "### 1.2 (20 points) Build an LSTM-based binding classifier"
      ]
    },
    {
      "cell_type": "markdown",
      "metadata": {
        "id": "mQUZo1FKfv-M"
      },
      "source": [
        "The following example will help familiarize you with the LSTM."
      ]
    },
    {
      "cell_type": "code",
      "execution_count": null,
      "metadata": {
        "id": "vhmkBZerfv-N",
        "colab": {
          "base_uri": "https://localhost:8080/"
        },
        "outputId": "eda4425d-afb9-4972-f129-41f11aaad6bf"
      },
      "outputs": [
        {
          "output_type": "stream",
          "name": "stdout",
          "text": [
            "torch.Size([256, 101, 32]) torch.Size([2, 256, 16]) torch.Size([2, 256, 16])\n"
          ]
        }
      ],
      "source": [
        "# Define a LSTM module\n",
        "lstm_model = nn.LSTM(input_size=4, hidden_size=16, num_layers=1, batch_first=True, bidirectional=True).to(\"cpu\") # \"cpu\" is the device id\n",
        "\n",
        "# Send your batch to a GPU\n",
        "X_batch, y_batch = next(iter(train_loader))\n",
        "X_batch = X_batch.to(\"cpu\")\n",
        "y_batch = y_batch.to(\"cpu\")\n",
        "\n",
        "# Propagate your batch into your model\n",
        "lstm_out, (ht, ct) = lstm_model(X_batch)\n",
        "print(lstm_out.shape, ht.shape, ct.shape)\n",
        "\n",
        "# You can play with hyperparameters to see how your output change"
      ]
    },
    {
      "cell_type": "markdown",
      "metadata": {
        "id": "DrKDF4AJfv-O"
      },
      "source": [
        "Now build your LSTM-based classifier as a nn.Module."
      ]
    },
    {
      "cell_type": "code",
      "execution_count": null,
      "metadata": {
        "id": "rVLRqmtgfv-O"
      },
      "outputs": [],
      "source": [
        "class LSTMseq(torch.nn.Module) :\n",
        "    def __init__(self, input_dim, hidden_dim) :\n",
        "        super().__init__()\n",
        "\n",
        "        # Define a LSTM module\n",
        "\n",
        "        # Define a MLP regressor\n",
        "\n",
        "        # Define a sigmoid transform\n",
        "\n",
        "    def forward(self, x):\n",
        "\n",
        "        # Apply LSTM\n",
        "\n",
        "        # Pass output into a MLP\n",
        "\n",
        "        # Transform output into probabilites\n",
        "\n",
        "        # Return probabilities\n",
        "        proba = None\n",
        "\n",
        "        return proba"
      ]
    },
    {
      "cell_type": "code",
      "execution_count": null,
      "metadata": {
        "id": "jN6oVCyyfv-O",
        "colab": {
          "base_uri": "https://localhost:8080/"
        },
        "outputId": "77870f43-a142-4969-9308-e491f1a4ec0b"
      },
      "outputs": [
        {
          "output_type": "stream",
          "name": "stdout",
          "text": [
            "torch.Size([256, 1])\n"
          ]
        }
      ],
      "source": [
        "# Test your ouput on a batch\n",
        "clf = LSTMseq(input_dim=4, hidden_dim=16).to('cpu')\n",
        "print(clf(X_batch).shape)"
      ]
    },
    {
      "cell_type": "markdown",
      "metadata": {
        "id": "PXqpwHtMfv-P"
      },
      "source": [
        "### 1.3 (20 points) Implement functions for training and testing"
      ]
    },
    {
      "cell_type": "markdown",
      "metadata": {
        "id": "UeqvPdTvn-3Y"
      },
      "source": [
        "The training and validation loops and evaluation function."
      ]
    },
    {
      "cell_type": "code",
      "execution_count": null,
      "metadata": {
        "id": "uwcE6igLfv-P"
      },
      "outputs": [],
      "source": [
        "def train(model, dataloader, optimizer, device):\n",
        "\n",
        "    '''\n",
        "    A function to train on the entire dataset for one epoch.\n",
        "\n",
        "    Args:\n",
        "        model (torch.nn.Module): Your sequence classifier\n",
        "        dataloader (torch.utils.data.Dataloader): DataLoader object for the train data\n",
        "        optimizer (torch.optim.Optimizer): Optimizer object to interface gradient calculation and optimization\n",
        "        device (str): Your device\n",
        "\n",
        "    Returns:\n",
        "        float: loss averaged over all the batches\n",
        "\n",
        "    '''\n",
        "\n",
        "    batch_loss = []\n",
        "    model.train() # Set model to training mode\n",
        "\n",
        "    for batch in dataloader:\n",
        "        seq, label = batch\n",
        "        seq = seq.to(device)\n",
        "        label = label.to(device)\n",
        "\n",
        "        # train your model on each batch here\n",
        "\n",
        "    return 0.0\n",
        "\n",
        "\n",
        "def validate(model, dataloader, device):\n",
        "\n",
        "    '''\n",
        "    A function to validate on the validation dataset for one epoch.\n",
        "\n",
        "    Args:\n",
        "        model (torch.nn.Module): Your sequence classifier\n",
        "        dataloader (torch.utils.data.Dataloader): DataLoader object for the validation data\n",
        "        device (str): Your device\n",
        "\n",
        "    Returns:\n",
        "        float: loss averaged over all the batches\n",
        "\n",
        "    '''\n",
        "\n",
        "    val_loss = []\n",
        "    model.eval() # Set model to evaluation mode\n",
        "    with torch.no_grad():\n",
        "        for batch in dataloader:\n",
        "            seq, label = batch\n",
        "            seq = seq.to(device)\n",
        "            label = label.to(device)\n",
        "\n",
        "            # validate your model on each batch here\n",
        "\n",
        "    return 0.0\n",
        "\n",
        "def evaluate(model, dataloader, device):\n",
        "\n",
        "    '''\n",
        "    A function to return the classification probabilities and true labels (for evaluation).\n",
        "\n",
        "    Args:\n",
        "        model (torch.nn.Module): your sequence classifier\n",
        "        dataloader (torch.utils.data.Dataloader): DataLoader object for the train data\n",
        "        device (str): Your device\n",
        "\n",
        "    Returns:\n",
        "        (np.array, np.array): true labels, predicted probabilities\n",
        "    '''\n",
        "\n",
        "    pred_prob = []\n",
        "    labels = []\n",
        "    with torch.no_grad():\n",
        "        model.eval()\n",
        "        for batch in dataloader:\n",
        "            epoch_loss = []\n",
        "            seq, label = batch\n",
        "\n",
        "            seq = seq.to(device)\n",
        "            label = label.to(device)\n",
        "\n",
        "            # evaluate your model here\n",
        "\n",
        "    return labels, pred_prob"
      ]
    },
    {
      "cell_type": "code",
      "execution_count": null,
      "metadata": {
        "id": "fE0-zkOafv-Q",
        "colab": {
          "base_uri": "https://localhost:8080/",
          "height": 350
        },
        "outputId": "219c681c-31f6-46b1-bba2-8a25076c62be"
      },
      "outputs": [
        {
          "output_type": "error",
          "ename": "RuntimeError",
          "evalue": "Found no NVIDIA driver on your system. Please check that you have an NVIDIA GPU and installed a driver from http://www.nvidia.com/Download/index.aspx",
          "traceback": [
            "\u001b[0;31m---------------------------------------------------------------------------\u001b[0m",
            "\u001b[0;31mRuntimeError\u001b[0m                              Traceback (most recent call last)",
            "\u001b[0;32m<ipython-input-14-2c0922aa26c8>\u001b[0m in \u001b[0;36m<cell line: 0>\u001b[0;34m()\u001b[0m\n\u001b[1;32m      1\u001b[0m \u001b[0mdevice\u001b[0m \u001b[0;34m=\u001b[0m \u001b[0;34m'cuda:0'\u001b[0m\u001b[0;34m\u001b[0m\u001b[0;34m\u001b[0m\u001b[0m\n\u001b[0;32m----> 2\u001b[0;31m \u001b[0mmodel\u001b[0m \u001b[0;34m=\u001b[0m \u001b[0mLSTMseq\u001b[0m\u001b[0;34m(\u001b[0m\u001b[0;36m4\u001b[0m\u001b[0;34m,\u001b[0m \u001b[0;36m16\u001b[0m\u001b[0;34m)\u001b[0m\u001b[0;34m.\u001b[0m\u001b[0mto\u001b[0m\u001b[0;34m(\u001b[0m\u001b[0mdevice\u001b[0m\u001b[0;34m)\u001b[0m\u001b[0;34m\u001b[0m\u001b[0;34m\u001b[0m\u001b[0m\n\u001b[0m\u001b[1;32m      3\u001b[0m \u001b[0;34m\u001b[0m\u001b[0m\n\u001b[1;32m      4\u001b[0m \u001b[0moptimizer\u001b[0m \u001b[0;34m=\u001b[0m \u001b[0mtorch\u001b[0m\u001b[0;34m.\u001b[0m\u001b[0moptim\u001b[0m\u001b[0;34m.\u001b[0m\u001b[0mAdam\u001b[0m\u001b[0;34m(\u001b[0m\u001b[0mlist\u001b[0m\u001b[0;34m(\u001b[0m\u001b[0mmodel\u001b[0m\u001b[0;34m.\u001b[0m\u001b[0mparameters\u001b[0m\u001b[0;34m(\u001b[0m\u001b[0;34m)\u001b[0m\u001b[0;34m)\u001b[0m\u001b[0;34m,\u001b[0m \u001b[0mlr\u001b[0m\u001b[0;34m=\u001b[0m\u001b[0;36m0.01\u001b[0m\u001b[0;34m)\u001b[0m\u001b[0;34m\u001b[0m\u001b[0;34m\u001b[0m\u001b[0m\n\u001b[1;32m      5\u001b[0m \u001b[0mscheduler\u001b[0m \u001b[0;34m=\u001b[0m \u001b[0mtorch\u001b[0m\u001b[0;34m.\u001b[0m\u001b[0moptim\u001b[0m\u001b[0;34m.\u001b[0m\u001b[0mlr_scheduler\u001b[0m\u001b[0;34m.\u001b[0m\u001b[0mReduceLROnPlateau\u001b[0m\u001b[0;34m(\u001b[0m\u001b[0moptimizer\u001b[0m\u001b[0;34m,\u001b[0m \u001b[0;34m'min'\u001b[0m\u001b[0;34m,\u001b[0m \u001b[0mverbose\u001b[0m\u001b[0;34m=\u001b[0m\u001b[0;32mTrue\u001b[0m\u001b[0;34m,\u001b[0m \u001b[0mfactor\u001b[0m\u001b[0;34m=\u001b[0m\u001b[0;36m0.5\u001b[0m\u001b[0;34m)\u001b[0m\u001b[0;34m\u001b[0m\u001b[0;34m\u001b[0m\u001b[0m\n",
            "\u001b[0;32m/usr/local/lib/python3.11/dist-packages/torch/nn/modules/module.py\u001b[0m in \u001b[0;36mto\u001b[0;34m(self, *args, **kwargs)\u001b[0m\n\u001b[1;32m   1338\u001b[0m                     \u001b[0;32mraise\u001b[0m\u001b[0;34m\u001b[0m\u001b[0;34m\u001b[0m\u001b[0m\n\u001b[1;32m   1339\u001b[0m \u001b[0;34m\u001b[0m\u001b[0m\n\u001b[0;32m-> 1340\u001b[0;31m         \u001b[0;32mreturn\u001b[0m \u001b[0mself\u001b[0m\u001b[0;34m.\u001b[0m\u001b[0m_apply\u001b[0m\u001b[0;34m(\u001b[0m\u001b[0mconvert\u001b[0m\u001b[0;34m)\u001b[0m\u001b[0;34m\u001b[0m\u001b[0;34m\u001b[0m\u001b[0m\n\u001b[0m\u001b[1;32m   1341\u001b[0m \u001b[0;34m\u001b[0m\u001b[0m\n\u001b[1;32m   1342\u001b[0m     def register_full_backward_pre_hook(\n",
            "\u001b[0;32m/usr/local/lib/python3.11/dist-packages/torch/nn/modules/module.py\u001b[0m in \u001b[0;36m_apply\u001b[0;34m(self, fn, recurse)\u001b[0m\n\u001b[1;32m    898\u001b[0m         \u001b[0;32mif\u001b[0m \u001b[0mrecurse\u001b[0m\u001b[0;34m:\u001b[0m\u001b[0;34m\u001b[0m\u001b[0;34m\u001b[0m\u001b[0m\n\u001b[1;32m    899\u001b[0m             \u001b[0;32mfor\u001b[0m \u001b[0mmodule\u001b[0m \u001b[0;32min\u001b[0m \u001b[0mself\u001b[0m\u001b[0;34m.\u001b[0m\u001b[0mchildren\u001b[0m\u001b[0;34m(\u001b[0m\u001b[0;34m)\u001b[0m\u001b[0;34m:\u001b[0m\u001b[0;34m\u001b[0m\u001b[0;34m\u001b[0m\u001b[0m\n\u001b[0;32m--> 900\u001b[0;31m                 \u001b[0mmodule\u001b[0m\u001b[0;34m.\u001b[0m\u001b[0m_apply\u001b[0m\u001b[0;34m(\u001b[0m\u001b[0mfn\u001b[0m\u001b[0;34m)\u001b[0m\u001b[0;34m\u001b[0m\u001b[0;34m\u001b[0m\u001b[0m\n\u001b[0m\u001b[1;32m    901\u001b[0m \u001b[0;34m\u001b[0m\u001b[0m\n\u001b[1;32m    902\u001b[0m         \u001b[0;32mdef\u001b[0m \u001b[0mcompute_should_use_set_data\u001b[0m\u001b[0;34m(\u001b[0m\u001b[0mtensor\u001b[0m\u001b[0;34m,\u001b[0m \u001b[0mtensor_applied\u001b[0m\u001b[0;34m)\u001b[0m\u001b[0;34m:\u001b[0m\u001b[0;34m\u001b[0m\u001b[0;34m\u001b[0m\u001b[0m\n",
            "\u001b[0;32m/usr/local/lib/python3.11/dist-packages/torch/nn/modules/rnn.py\u001b[0m in \u001b[0;36m_apply\u001b[0;34m(self, fn, recurse)\u001b[0m\n\u001b[1;32m    281\u001b[0m     \u001b[0;32mdef\u001b[0m \u001b[0m_apply\u001b[0m\u001b[0;34m(\u001b[0m\u001b[0mself\u001b[0m\u001b[0;34m,\u001b[0m \u001b[0mfn\u001b[0m\u001b[0;34m,\u001b[0m \u001b[0mrecurse\u001b[0m\u001b[0;34m=\u001b[0m\u001b[0;32mTrue\u001b[0m\u001b[0;34m)\u001b[0m\u001b[0;34m:\u001b[0m\u001b[0;34m\u001b[0m\u001b[0;34m\u001b[0m\u001b[0m\n\u001b[1;32m    282\u001b[0m         \u001b[0mself\u001b[0m\u001b[0;34m.\u001b[0m\u001b[0m_flat_weight_refs\u001b[0m \u001b[0;34m=\u001b[0m \u001b[0;34m[\u001b[0m\u001b[0;34m]\u001b[0m\u001b[0;34m\u001b[0m\u001b[0;34m\u001b[0m\u001b[0m\n\u001b[0;32m--> 283\u001b[0;31m         \u001b[0mret\u001b[0m \u001b[0;34m=\u001b[0m \u001b[0msuper\u001b[0m\u001b[0;34m(\u001b[0m\u001b[0;34m)\u001b[0m\u001b[0;34m.\u001b[0m\u001b[0m_apply\u001b[0m\u001b[0;34m(\u001b[0m\u001b[0mfn\u001b[0m\u001b[0;34m,\u001b[0m \u001b[0mrecurse\u001b[0m\u001b[0;34m)\u001b[0m\u001b[0;34m\u001b[0m\u001b[0;34m\u001b[0m\u001b[0m\n\u001b[0m\u001b[1;32m    284\u001b[0m \u001b[0;34m\u001b[0m\u001b[0m\n\u001b[1;32m    285\u001b[0m         \u001b[0;31m# Resets _flat_weights\u001b[0m\u001b[0;34m\u001b[0m\u001b[0;34m\u001b[0m\u001b[0m\n",
            "\u001b[0;32m/usr/local/lib/python3.11/dist-packages/torch/nn/modules/module.py\u001b[0m in \u001b[0;36m_apply\u001b[0;34m(self, fn, recurse)\u001b[0m\n\u001b[1;32m    925\u001b[0m             \u001b[0;31m# `with torch.no_grad():`\u001b[0m\u001b[0;34m\u001b[0m\u001b[0;34m\u001b[0m\u001b[0m\n\u001b[1;32m    926\u001b[0m             \u001b[0;32mwith\u001b[0m \u001b[0mtorch\u001b[0m\u001b[0;34m.\u001b[0m\u001b[0mno_grad\u001b[0m\u001b[0;34m(\u001b[0m\u001b[0;34m)\u001b[0m\u001b[0;34m:\u001b[0m\u001b[0;34m\u001b[0m\u001b[0;34m\u001b[0m\u001b[0m\n\u001b[0;32m--> 927\u001b[0;31m                 \u001b[0mparam_applied\u001b[0m \u001b[0;34m=\u001b[0m \u001b[0mfn\u001b[0m\u001b[0;34m(\u001b[0m\u001b[0mparam\u001b[0m\u001b[0;34m)\u001b[0m\u001b[0;34m\u001b[0m\u001b[0;34m\u001b[0m\u001b[0m\n\u001b[0m\u001b[1;32m    928\u001b[0m             \u001b[0mp_should_use_set_data\u001b[0m \u001b[0;34m=\u001b[0m \u001b[0mcompute_should_use_set_data\u001b[0m\u001b[0;34m(\u001b[0m\u001b[0mparam\u001b[0m\u001b[0;34m,\u001b[0m \u001b[0mparam_applied\u001b[0m\u001b[0;34m)\u001b[0m\u001b[0;34m\u001b[0m\u001b[0;34m\u001b[0m\u001b[0m\n\u001b[1;32m    929\u001b[0m \u001b[0;34m\u001b[0m\u001b[0m\n",
            "\u001b[0;32m/usr/local/lib/python3.11/dist-packages/torch/nn/modules/module.py\u001b[0m in \u001b[0;36mconvert\u001b[0;34m(t)\u001b[0m\n\u001b[1;32m   1324\u001b[0m                         \u001b[0mmemory_format\u001b[0m\u001b[0;34m=\u001b[0m\u001b[0mconvert_to_format\u001b[0m\u001b[0;34m,\u001b[0m\u001b[0;34m\u001b[0m\u001b[0;34m\u001b[0m\u001b[0m\n\u001b[1;32m   1325\u001b[0m                     )\n\u001b[0;32m-> 1326\u001b[0;31m                 return t.to(\n\u001b[0m\u001b[1;32m   1327\u001b[0m                     \u001b[0mdevice\u001b[0m\u001b[0;34m,\u001b[0m\u001b[0;34m\u001b[0m\u001b[0;34m\u001b[0m\u001b[0m\n\u001b[1;32m   1328\u001b[0m                     \u001b[0mdtype\u001b[0m \u001b[0;32mif\u001b[0m \u001b[0mt\u001b[0m\u001b[0;34m.\u001b[0m\u001b[0mis_floating_point\u001b[0m\u001b[0;34m(\u001b[0m\u001b[0;34m)\u001b[0m \u001b[0;32mor\u001b[0m \u001b[0mt\u001b[0m\u001b[0;34m.\u001b[0m\u001b[0mis_complex\u001b[0m\u001b[0;34m(\u001b[0m\u001b[0;34m)\u001b[0m \u001b[0;32melse\u001b[0m \u001b[0;32mNone\u001b[0m\u001b[0;34m,\u001b[0m\u001b[0;34m\u001b[0m\u001b[0;34m\u001b[0m\u001b[0m\n",
            "\u001b[0;32m/usr/local/lib/python3.11/dist-packages/torch/cuda/__init__.py\u001b[0m in \u001b[0;36m_lazy_init\u001b[0;34m()\u001b[0m\n\u001b[1;32m    317\u001b[0m         \u001b[0;32mif\u001b[0m \u001b[0;34m\"CUDA_MODULE_LOADING\"\u001b[0m \u001b[0;32mnot\u001b[0m \u001b[0;32min\u001b[0m \u001b[0mos\u001b[0m\u001b[0;34m.\u001b[0m\u001b[0menviron\u001b[0m\u001b[0;34m:\u001b[0m\u001b[0;34m\u001b[0m\u001b[0;34m\u001b[0m\u001b[0m\n\u001b[1;32m    318\u001b[0m             \u001b[0mos\u001b[0m\u001b[0;34m.\u001b[0m\u001b[0menviron\u001b[0m\u001b[0;34m[\u001b[0m\u001b[0;34m\"CUDA_MODULE_LOADING\"\u001b[0m\u001b[0;34m]\u001b[0m \u001b[0;34m=\u001b[0m \u001b[0;34m\"LAZY\"\u001b[0m\u001b[0;34m\u001b[0m\u001b[0;34m\u001b[0m\u001b[0m\n\u001b[0;32m--> 319\u001b[0;31m         \u001b[0mtorch\u001b[0m\u001b[0;34m.\u001b[0m\u001b[0m_C\u001b[0m\u001b[0;34m.\u001b[0m\u001b[0m_cuda_init\u001b[0m\u001b[0;34m(\u001b[0m\u001b[0;34m)\u001b[0m\u001b[0;34m\u001b[0m\u001b[0;34m\u001b[0m\u001b[0m\n\u001b[0m\u001b[1;32m    320\u001b[0m         \u001b[0;31m# Some of the queued calls may reentrantly call _lazy_init();\u001b[0m\u001b[0;34m\u001b[0m\u001b[0;34m\u001b[0m\u001b[0m\n\u001b[1;32m    321\u001b[0m         \u001b[0;31m# we need to just return without initializing in that case.\u001b[0m\u001b[0;34m\u001b[0m\u001b[0;34m\u001b[0m\u001b[0m\n",
            "\u001b[0;31mRuntimeError\u001b[0m: Found no NVIDIA driver on your system. Please check that you have an NVIDIA GPU and installed a driver from http://www.nvidia.com/Download/index.aspx"
          ]
        }
      ],
      "source": [
        "device = 'cuda:0'\n",
        "model = LSTMseq(4, 16).to(device)\n",
        "\n",
        "optimizer = torch.optim.Adam(list(model.parameters()), lr=0.01)\n",
        "scheduler = torch.optim.lr_scheduler.ReduceLROnPlateau(optimizer, 'min', verbose=True, factor=0.5)\n",
        "\n",
        "val_loss_curve = []\n",
        "train_loss_curve = []\n",
        "\n",
        "# Use tqdm for progress bar\n",
        "tqdm_progress =  tqdm(range(500), desc=\"Progress\")\n",
        "\n",
        "for epoch in tqdm_progress:\n",
        "    # Compute train your model on training data\n",
        "    epoch_loss = train(model, train_loader, optimizer,  device=device)\n",
        "\n",
        "    # Validate your on validation data\n",
        "    val_loss = validate(model, val_loader, device=device)\n",
        "\n",
        "    # Record train and loss performance\n",
        "    train_loss_curve.append(epoch_loss)\n",
        "    val_loss_curve.append(val_loss)\n",
        "\n",
        "    # The learning rate scheduler record the validation loss\n",
        "    scheduler.step(val_loss)\n",
        "    tqdm_progress.set_postfix(train_loss=f'{epoch_loss:.3f}', val_loss=f'{val_loss:.3f}', refresh=True)"
      ]
    },
    {
      "cell_type": "markdown",
      "metadata": {
        "id": "Mc-un62Ufv-R"
      },
      "source": [
        "Plot train and validation loss functions."
      ]
    },
    {
      "cell_type": "code",
      "execution_count": null,
      "metadata": {
        "id": "WYUSvgUifv-R"
      },
      "outputs": [],
      "source": [
        "fig, ax = plt.subplots(figsize=(6, 4))\n",
        "ax.plot(val_loss_curve, label='Validation Loss')\n",
        "ax.plot(train_loss_curve, label='Training Loss')\n",
        "ax.set_xlabel('Epoch')\n",
        "ax.set_ylabel('Loss')\n",
        "ax.legend(loc='upper right')\n",
        "fig.tight_layout()"
      ]
    },
    {
      "cell_type": "markdown",
      "source": [
        "Report the AUC on test data.\n"
      ],
      "metadata": {
        "id": "J9cyK-MFbGRE"
      }
    },
    {
      "cell_type": "code",
      "source": [
        "################ Code #################\n",
        "\n",
        "################ Code #################"
      ],
      "metadata": {
        "id": "w4PU7Lw1bDeH"
      },
      "execution_count": null,
      "outputs": []
    },
    {
      "cell_type": "markdown",
      "source": [
        "## Problem 2: Image Segmentation"
      ],
      "metadata": {
        "id": "M4r2cFKpPYaa"
      }
    },
    {
      "cell_type": "markdown",
      "source": [
        "### 2.1 (20 points) Build Datasets and DataLoaders"
      ],
      "metadata": {
        "id": "QH39NmYzP6d5"
      }
    },
    {
      "cell_type": "markdown",
      "source": [
        "Parse data from image filepaths."
      ],
      "metadata": {
        "id": "-Iw2XBUCQ8kI"
      }
    },
    {
      "cell_type": "code",
      "source": [
        "paths = [path for path in glob.glob(\"cell_segmentation/*\") if \"cells\" in path]\n",
        "\n",
        "def load_img(path):\n",
        "    x = np.array(Image.open(path)) / 255\n",
        "    y = np.array(Image.open(path.replace(\"cells\",\"masks\"))) / 255\n",
        "    return x, y"
      ],
      "metadata": {
        "id": "xypX195TRKld"
      },
      "execution_count": null,
      "outputs": []
    },
    {
      "cell_type": "markdown",
      "source": [
        "Load one image.\n"
      ],
      "metadata": {
        "id": "C98dVTV2RNsy"
      }
    },
    {
      "cell_type": "code",
      "source": [
        "idx = 20\n",
        "cells, masks = load_img(paths[idx])\n",
        "fig, axes = plt.subplots(1,2)\n",
        "axes[0].imshow(cells, cmap='gray')\n",
        "axes[1].imshow(masks, cmap='gray')"
      ],
      "metadata": {
        "id": "sAR5NnZXRL9m",
        "colab": {
          "base_uri": "https://localhost:8080/",
          "height": 320
        },
        "outputId": "4ddda0c1-78b1-4887-ce81-a5949dfdb369"
      },
      "execution_count": null,
      "outputs": [
        {
          "output_type": "execute_result",
          "data": {
            "text/plain": [
              "<matplotlib.image.AxesImage at 0x7a40c1ad5dd0>"
            ]
          },
          "metadata": {},
          "execution_count": 20
        },
        {
          "output_type": "display_data",
          "data": {
            "text/plain": [
              "<Figure size 640x480 with 2 Axes>"
            ],
            "image/png": "[encoded data removed]"
          },
          "metadata": {}
        }
      ]
    },
    {
      "cell_type": "markdown",
      "source": [
        "Your ImageDataset class."
      ],
      "metadata": {
        "id": "s_sJVFYaRSRJ"
      }
    },
    {
      "cell_type": "code",
      "source": [
        "################ Code #################"
      ],
      "metadata": {
        "id": "ENjoXtxHIsFX"
      },
      "execution_count": null,
      "outputs": []
    },
    {
      "cell_type": "markdown",
      "source": [
        "Split your data and load your DataLoaders.\n"
      ],
      "metadata": {
        "id": "6GvPVO2KRUnY"
      }
    },
    {
      "cell_type": "code",
      "source": [
        "################ Code #################"
      ],
      "metadata": {
        "id": "sACOr4V0It4s"
      },
      "execution_count": null,
      "outputs": []
    },
    {
      "cell_type": "markdown",
      "source": [
        "Is it necessary to apply random translation to your images? Briefly justify your answer.\n"
      ],
      "metadata": {
        "id": "XdtrIzU1IpCt"
      }
    },
    {
      "cell_type": "code",
      "source": [
        "############### Answer #################"
      ],
      "metadata": {
        "id": "HnJxzl_hIw4H"
      },
      "execution_count": null,
      "outputs": []
    },
    {
      "cell_type": "markdown",
      "source": [
        "### 2.2 (20 points) Train a U-Net Model that Performs Image Segmentation\n",
        "\n",
        "Implement Dice loss."
      ],
      "metadata": {
        "id": "sTFqKeNGI2Af"
      }
    },
    {
      "cell_type": "code",
      "source": [
        "def dice_loss(pred, target):\n",
        "    \"\"\"Calculate Dice loss.\n",
        "\n",
        "    Parameters\n",
        "    ----------\n",
        "        pred:\n",
        "            predictions from the model\n",
        "        target:\n",
        "            ground truth label\n",
        "    \"\"\"\n",
        "\n",
        "################ Code #################"
      ],
      "metadata": {
        "id": "ncrYOPSZI6yi"
      },
      "execution_count": null,
      "outputs": []
    },
    {
      "cell_type": "markdown",
      "source": [
        "The U-Net Model.\n"
      ],
      "metadata": {
        "id": "wa24G-ItI-Nj"
      }
    },
    {
      "cell_type": "code",
      "source": [
        "class DownSampling(nn.Module):\n",
        "\n",
        "    def __init__(self, in_channels, out_channels, kernel_size, name=None):\n",
        "        super(DownSampling, self).__init__()\n",
        "\n",
        "        self.conv = ConvBlock(in_channels, out_channels, kernel_size)\n",
        "        self.max_pool = nn.MaxPool2d(kernel_size=2, stride=2)\n",
        "\n",
        "    def forward(self, x):\n",
        "\n",
        "        conv_out = self.conv(x)\n",
        "        output = self.max_pool(conv_out)\n",
        "\n",
        "        return output, conv_out\n",
        "\n",
        "\n",
        "class UpSampling(nn.Module):\n",
        "\n",
        "    def __init__(self, in_channels, out_channels, kernel_size, name=None):\n",
        "        super(UpSampling, self).__init__()\n",
        "\n",
        "        self.conv = ConvBlock(in_channels, out_channels, kernel_size)\n",
        "        self.conv_t = nn.ConvTranspose2d(out_channels, out_channels, kernel_size, \\\n",
        "                                         padding=1, stride=2, output_padding=1)\n",
        "\n",
        "\n",
        "    def forward(self, x, skip):\n",
        "\n",
        "        conv_out = self.conv(x)\n",
        "        output = self.conv_t(conv_out)\n",
        "\n",
        "        output += skip\n",
        "\n",
        "        return output\n",
        "\n",
        "\n",
        "class ConvBlock(nn.Module):\n",
        "\n",
        "    def __init__(self, in_channels, out_channels, kernel_size, padding=1, stride=1, name=None):\n",
        "        super(ConvBlock, self).__init__()\n",
        "\n",
        "        block = []\n",
        "        # first conv layer\n",
        "        block.append(nn.Conv2d(in_channels, out_channels, kernel_size, \\\n",
        "                               padding=padding, stride=stride))\n",
        "        block.append(nn.ReLU())\n",
        "        block.append(nn.BatchNorm2d(out_channels))\n",
        "\n",
        "        # second conv layer\n",
        "        block.append(nn.Conv2d(out_channels, out_channels, kernel_size, \\\n",
        "                               padding=padding, stride=stride))\n",
        "        block.append(nn.ReLU())\n",
        "        block.append(nn.BatchNorm2d(out_channels))\n",
        "\n",
        "        # make sequential\n",
        "        self.conv_block = nn.Sequential(*block)\n",
        "\n",
        "\n",
        "    def forward(self, x):\n",
        "\n",
        "        output = self.conv_block(x)\n",
        "\n",
        "        return output\n",
        "\n",
        "\n",
        "class UNet(nn.Module):\n",
        "\n",
        "    def __init__(self, num_kernel=8, kernel_size=3, dim=1, target_dim=1):\n",
        "        \"\"\"UNet\n",
        "\n",
        "        Arguments:\n",
        "            num_kernel: int\n",
        "                number of kernels to use for the first layer\n",
        "            kernel_size: int\n",
        "                size of the kernel for the first layer\n",
        "            dims: int\n",
        "                number of color channels for input images\n",
        "            target_dim: int\n",
        "                number of channels for the output mask\n",
        "        \"\"\"\n",
        "\n",
        "        super(UNet, self).__init__()\n",
        "\n",
        "        self.num_kernel = num_kernel\n",
        "        self.kernel_size = kernel_size\n",
        "        self.dim = dim\n",
        "        self.target_dim = 1\n",
        "\n",
        "        # encode\n",
        "        self.encode_1 = DownSampling(self.dim, num_kernel, kernel_size)\n",
        "        self.encode_2 = DownSampling(num_kernel, num_kernel*2, kernel_size)\n",
        "        self.encode_3 = DownSampling(num_kernel*2, num_kernel*4, kernel_size)\n",
        "        self.encode_4 = DownSampling(num_kernel*4, num_kernel*8, kernel_size)\n",
        "\n",
        "        # bridge\n",
        "        self.bridge = nn.Conv2d(num_kernel*8, num_kernel*16, kernel_size, padding=1, stride=1)\n",
        "\n",
        "        # decode\n",
        "        self.decode_4 = UpSampling(num_kernel*16, num_kernel*8, kernel_size)\n",
        "        self.decode_3 = UpSampling(num_kernel*8, num_kernel*4, kernel_size)\n",
        "        self.decode_2 = UpSampling(num_kernel*4, num_kernel*2, kernel_size)\n",
        "        self.decode_1 = UpSampling(num_kernel*2, num_kernel, kernel_size)\n",
        "\n",
        "        self.segment = nn.Conv2d(num_kernel, self.target_dim, 1, padding=0, stride=1)\n",
        "        self.activate = nn.Sigmoid()\n",
        "\n",
        "\n",
        "    def forward(self, x):\n",
        "\n",
        "        has_channel = x.ndim == 4\n",
        "        if not has_channel:\n",
        "            x = x.unsqueeze(1)\n",
        "\n",
        "        x, skip_1 = self.encode_1(x)\n",
        "        x, skip_2 = self.encode_2(x)\n",
        "        x, skip_3 = self.encode_3(x)\n",
        "        x, skip_4 = self.encode_4(x)\n",
        "\n",
        "        x = self.bridge(x)\n",
        "\n",
        "        x = self.decode_4(x, skip_4)\n",
        "        x = self.decode_3(x, skip_3)\n",
        "        x = self.decode_2(x, skip_2)\n",
        "        x = self.decode_1(x, skip_1)\n",
        "\n",
        "        x = self.segment(x)\n",
        "\n",
        "        pred = self.activate(x)\n",
        "\n",
        "        if not has_channel:\n",
        "            pred = pred.squeeze(1)\n",
        "\n",
        "        return pred\n",
        "\n",
        "\n",
        "    def args_dict(self):\n",
        "        \"\"\"model arguments to be saved\n",
        "        \"\"\"\n",
        "\n",
        "        model_args = {'dim': self.dim,\n",
        "                      'target_dim': self.target_dim,\n",
        "                      'num_kernel' : self.num_kernel,\n",
        "                      'kernel_size' : self.kernel_size}\n",
        "\n",
        "        return model_args"
      ],
      "metadata": {
        "id": "VXM-zlqVI84I"
      },
      "execution_count": null,
      "outputs": []
    },
    {
      "cell_type": "markdown",
      "source": [
        "Example model usage."
      ],
      "metadata": {
        "id": "pX4kdRjZJEBY"
      }
    },
    {
      "cell_type": "code",
      "source": [
        "model = UNet()\n",
        "y = model(torch.randn(4, 256, 256))\n",
        "\n",
        "print(y.shape)"
      ],
      "metadata": {
        "id": "oXlrI2qgJJjL"
      },
      "execution_count": null,
      "outputs": []
    },
    {
      "cell_type": "markdown",
      "source": [
        "A function to plot a segmentation map.\n"
      ],
      "metadata": {
        "id": "wc8Oe5qnJOCU"
      }
    },
    {
      "cell_type": "code",
      "source": [
        "def plot_seg(img, pred_seg, true_seg, mask_cutoff=0.5):\n",
        "\n",
        "    \"\"\" Visualize segmentation results.\n",
        "    Inputs:\n",
        "        image: orginal image, shape: 256 x 256\n",
        "        pred_seg: predicted mask, shape: 256 x 256\n",
        "        true_seg: true mask, shape: 256 x 256\n",
        "        mask_cutoff: if the mask values is larger than mask_cutoff, the mask will appear on the image\n",
        "    \"\"\"\n",
        "    img = img.squeeze()\n",
        "    pred_seg = pred_seg.squeeze()\n",
        "    true_seg = true_seg.squeeze()\n",
        "\n",
        "    fig, ax = plt.subplots(1, 3, sharex='col', sharey='row')\n",
        "    fig.set_size_inches((15,15))\n",
        "\n",
        "    ax[0].set_title(\"Original Image\")\n",
        "    ax[1].set_title(\"Prediction\")\n",
        "    ax[2].set_title(\"Ground Truth\")\n",
        "\n",
        "    img = np.stack([img,img,img],axis = -1)\n",
        "    ax[0].imshow(img)\n",
        "    ax[1].imshow(np.clip(color.label2rgb(pred_seg > mask_cutoff,img,colors=[(255,0,0)],alpha=0.0025, bg_label=0, bg_color=None),0,1))\n",
        "    ax[2].imshow(np.clip(color.label2rgb(true_seg > mask_cutoff,img,colors=[(255,0,0)],alpha=0.0025, bg_label=0, bg_color=None),0,1))\n",
        "\n",
        "    plt.show()"
      ],
      "metadata": {
        "id": "cracWrxLJMXe"
      },
      "execution_count": null,
      "outputs": []
    },
    {
      "cell_type": "markdown",
      "source": [
        "Train your model."
      ],
      "metadata": {
        "id": "br6GxDxgJQ3-"
      }
    },
    {
      "cell_type": "code",
      "source": [
        "################ Code #################"
      ],
      "metadata": {
        "id": "55r_kgUeJTck"
      },
      "execution_count": null,
      "outputs": []
    },
    {
      "cell_type": "markdown",
      "source": [
        "Show segmentation results for 3 images from the test dataset.\n"
      ],
      "metadata": {
        "id": "EYIbGqmoJVHs"
      }
    },
    {
      "cell_type": "code",
      "source": [
        "################ Code #################"
      ],
      "metadata": {
        "id": "dOBlDuhSJWO8"
      },
      "execution_count": null,
      "outputs": []
    }
  ],
  "metadata": {
    "colab": {
      "provenance": [],
      "collapsed_sections": [
        "KRjyJW47RVfB",
        "PGGr1meefv-F",
        "yy0Uy4nffv-M",
        "PXqpwHtMfv-P",
        "QH39NmYzP6d5",
        "sTFqKeNGI2Af"
      ]
    },
    "kernelspec": {
      "display_name": "Python 3",
      "name": "python3"
    },
    "language_info": {
      "codemirror_mode": {
        "name": "ipython",
        "version": 3
      },
      "file_extension": ".py",
      "mimetype": "text/x-python",
      "name": "python",
      "nbconvert_exporter": "python",
      "pygments_lexer": "ipython3",
      "version": "3.10.0"
    }
  },
  "nbformat": 4,
  "nbformat_minor": 0
}