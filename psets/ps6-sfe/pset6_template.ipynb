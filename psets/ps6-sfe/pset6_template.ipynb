{
 "cells": [
  {
   "attachments": {},
   "cell_type": "markdown",
   "metadata": {
    "id": "Uo8WznxNdqD9"
   },
   "source": [
    "#  <center> Problem Set 6 <center>\n",
    "\n",
    "<center> 3.C01/3.C51, 10.C01/10.C51 <center>"
   ]
  },
  {
   "cell_type": "code",
   "execution_count": null,
   "metadata": {
    "id": "AbRz3p9WdqD_"
   },
   "outputs": [],
   "source": [
    "!pip install rdkit"
   ]
  },
  {
   "cell_type": "code",
   "execution_count": null,
   "metadata": {
    "id": "8yzHDk2idqEE",
    "outputId": "cf760482-d7ce-48f6-fbde-1b5c2b1c8d5d"
   },
   "outputs": [
    {
     "name": "stdout",
     "output_type": "stream",
     "text": [
      "--2021-05-05 23:35:40--  https://raw.githubusercontent.com/wwang2/ML4MolEng/master/psets/ps6/data/chem_mat/molecule_props.csv\n",
      "Resolving raw.githubusercontent.com (raw.githubusercontent.com)... 185.199.111.133, 185.199.108.133, 185.199.109.133, ...\n",
      "Connecting to raw.githubusercontent.com (raw.githubusercontent.com)|185.199.111.133|:443... connected.\n",
      "HTTP request sent, awaiting response... 200 OK\n",
      "Length: 26739 (26K) [text/plain]\n",
      "Saving to: ‘molecule_props.csv’\n",
      "\n",
      "molecule_props.csv  100%[===================>]  26.11K  --.-KB/s    in 0s      \n",
      "\n",
      "2021-05-05 23:35:40 (52.6 MB/s) - ‘molecule_props.csv’ saved [26739/26739]\n",
      "\n",
      "--2021-05-05 23:35:40--  https://raw.githubusercontent.com/wwang2/ML4MolEng/master/psets/ps6/data/chem_mat/solvation_train.csv\n",
      "Resolving raw.githubusercontent.com (raw.githubusercontent.com)... 185.199.110.133, 185.199.109.133, 185.199.108.133, ...\n",
      "Connecting to raw.githubusercontent.com (raw.githubusercontent.com)|185.199.110.133|:443... connected.\n",
      "HTTP request sent, awaiting response... 200 OK\n",
      "Length: 124274 (121K) [text/plain]\n",
      "Saving to: ‘solvation_train.csv’\n",
      "\n",
      "solvation_train.csv 100%[===================>] 121.36K  --.-KB/s    in 0.03s   \n",
      "\n",
      "2021-05-05 23:35:41 (4.46 MB/s) - ‘solvation_train.csv’ saved [124274/124274]\n"
     ]
    }
   ],
   "source": [
    "!wget https://raw.githubusercontent.com/coleygroup/ML4MolEng/main/psets/ps6-sfe/data/molecule_props.csv\n",
    "!wget https://raw.githubusercontent.com/coleygroup/ML4MolEng/main/psets/ps6-sfe/data/solvation_train.csv\n",
    "!wget https://raw.githubusercontent.com/coleygroup/ML4MolEng/main/psets/ps6-sfe/data/solvation_test.csv"
   ]
  },
  {
   "cell_type": "markdown",
   "metadata": {
    "id": "tkB_bDgydqEJ"
   },
   "source": [
    "## Part 1: Baseline Regression Methods"
   ]
  },
  {
   "cell_type": "markdown",
   "metadata": {
    "id": "BZBbezSgeV9i"
   },
   "source": [
    "### Part 1.1: (5 points) Prepare Dataset"
   ]
  },
  {
   "cell_type": "code",
   "execution_count": null,
   "metadata": {
    "id": "5MSTRFRzdqEL"
   },
   "outputs": [],
   "source": [
    "import pandas as pd \n",
    "\n",
    "# load data \n",
    "data = pd.read_csv('./solvation_train.csv')\n",
    "mol_prop = pd.read_csv('./molecule_props.csv')"
   ]
  },
  {
   "cell_type": "markdown",
   "metadata": {
    "id": "ok9EthEXec48"
   },
   "source": [
    "Some utility functions for you to generate features."
   ]
  },
  {
   "cell_type": "code",
   "execution_count": null,
   "metadata": {
    "id": "CHKmkNepdqER"
   },
   "outputs": [],
   "source": [
    "from rdkit import Chem, DataStructs\n",
    "from rdkit.Chem import AllChem, Descriptors,Crippen\n",
    "import numpy as np"
   ]
  },
  {
   "cell_type": "markdown",
   "metadata": {
    "id": "SMYXzNLCepen"
   },
   "source": [
    "Generate fingerprints (e.g. a Morgan fingerprint)."
   ]
  },
  {
   "cell_type": "code",
   "execution_count": null,
   "metadata": {
    "id": "zL8tJad6dqEU",
    "outputId": "20f7560c-8a7b-4c8c-b835-1b90056bb46a"
   },
   "outputs": [
    {
     "name": "stdout",
     "output_type": "stream",
     "text": [
      "(512,)\n"
     ]
    }
   ],
   "source": [
    "# Get molecular feature from RDkit \n",
    "smiles = 'CN1C=NC2=C1C(=O)N(C(=O)N2C)C'\n",
    "\n",
    "# define Mol object\n",
    "mol = Chem.MolFromSmiles(smiles)\n",
    "\n",
    "# get morgan fingerprint \n",
    "# obtain a 512 bit fingperint, with radius 2\n",
    "fp = AllChem.GetMorganFingerprintAsBitVect(mol, radius=2, nBits=512) \n",
    "\n",
    "# convert to numpy array \n",
    "fp_array = np.zeros((1,), int)\n",
    "DataStructs.ConvertToNumpyArray(fp, fp_array)"
   ]
  },
  {
   "cell_type": "markdown",
   "metadata": {
    "id": "tItagId2erRw"
   },
   "source": [
    "Generate various chemical properties."
   ]
  },
  {
   "cell_type": "code",
   "execution_count": null,
   "metadata": {
    "id": "jU2HiX0hdqEZ",
    "outputId": "9814ead6-e570-4d4d-800f-723e094e71b9"
   },
   "outputs": [
    {
     "data": {
      "text/plain": [
       "<rdkit.DataStructs.cDataStructs.ExplicitBitVect at 0x7f4a8464bb20>"
      ]
     },
     "execution_count": 4,
     "metadata": {},
     "output_type": "execute_result"
    }
   ],
   "source": [
    "MolWt = Descriptors.ExactMolWt(mol)\n",
    "TPSA = Chem.rdMolDescriptors.CalcTPSA(mol) #Topological Polar Surface Area\n",
    "nRotB = Descriptors.NumRotatableBonds(mol) #Number of rotable bonds\n",
    "HBD = Descriptors.NumHDonors(mol) #Number of H bond donors\n",
    "HBA = Descriptors.NumHAcceptors(mol) #Number of H bond acceptors\n",
    "logP = Descriptors.MolLogP(mol) #LogP"
   ]
  },
  {
   "cell_type": "markdown",
   "metadata": {
    "id": "nkl6NBhJew2K"
   },
   "source": [
    "Create a feature set with concatenated physical descriptors."
   ]
  },
  {
   "cell_type": "code",
   "execution_count": null,
   "metadata": {
    "id": "Uj-SFjPee0My"
   },
   "outputs": [],
   "source": []
  },
  {
   "cell_type": "markdown",
   "metadata": {
    "id": "yss40IY_dqEN"
   },
   "source": [
    "### 1.2 (10 points) Linear Regression"
   ]
  },
  {
   "cell_type": "markdown",
   "metadata": {
    "id": "5ixgSvHFhao0"
   },
   "source": [
    "Train a linear regression model and report a 5-fold cross-validated R^2."
   ]
  },
  {
   "cell_type": "code",
   "execution_count": null,
   "metadata": {
    "id": "mpkBJk5cdqEP"
   },
   "outputs": [],
   "source": []
  },
  {
   "cell_type": "markdown",
   "metadata": {
    "id": "-laiNUcodqEP"
   },
   "source": [
    "### 1.3 (10 points) MLP Regression"
   ]
  },
  {
   "cell_type": "markdown",
   "metadata": {
    "id": "meAJkhi4hhuT"
   },
   "source": [
    "Train an MLP regression model and report a 5-fold cross-validated R^2."
   ]
  },
  {
   "cell_type": "code",
   "execution_count": null,
   "metadata": {
    "id": "J3ibqCdxdqER"
   },
   "outputs": [],
   "source": []
  },
  {
   "cell_type": "markdown",
   "metadata": {
    "id": "npN-qSQDdqER"
   },
   "source": [
    "## Part 2: (50 points) Machine Learning Competition and Report"
   ]
  },
  {
   "cell_type": "markdown",
   "metadata": {
    "id": "J34YVX-nkoJd"
   },
   "source": [
    "You can start a new notebook here to put all your models."
   ]
  },
  {
   "cell_type": "code",
   "execution_count": null,
   "metadata": {
    "id": "j3B9eYwVdqEd"
   },
   "outputs": [],
   "source": [
    "def save_submission(prediction, filename):\n",
    "    '''\n",
    "    Utility function to dump a submission file.\n",
    "    \n",
    "    prediction (numpy.array): 1d numpy array contains your prediction\n",
    "    filename (str): file path to where you want to save the result\n",
    "    '''\n",
    "    sub = pd.DataFrame( {'index': list(range(len(prediction))), 'logK': prediction } )\n",
    "    sub.to_csv(filename, index=False)"
   ]
  }
 ],
 "metadata": {
  "colab": {
   "name": "pset6_template.ipynb",
   "provenance": []
  },
  "kernelspec": {
   "display_name": "Python [conda env:ps3]",
   "language": "python",
   "name": "conda-env-ps3-py"
  },
  "language_info": {
   "codemirror_mode": {
    "name": "ipython",
    "version": 3
   },
   "file_extension": ".py",
   "mimetype": "text/x-python",
   "name": "python",
   "nbconvert_exporter": "python",
   "pygments_lexer": "ipython3",
   "version": "3.7.9"
  }
 },
 "nbformat": 4,
 "nbformat_minor": 1
}
